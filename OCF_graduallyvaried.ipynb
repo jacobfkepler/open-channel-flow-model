{
 "cells": [
  {
   "cell_type": "markdown",
   "id": "a6be511f",
   "metadata": {},
   "source": [
    "# 1d Open Channel, Gradually Varied, Flow Model\n",
    "### CIVE 612\n",
    "### Final Project\n",
    "### Authors: Arif, Jacob, Phoebe"
   ]
  },
  {
   "cell_type": "markdown",
   "id": "c6e163a7",
   "metadata": {},
   "source": [
    "# Assumptions\n"
   ]
  },
  {
   "cell_type": "markdown",
   "id": "66e183c5",
   "metadata": {},
   "source": [
    "# Capabilities\n",
    "Rewrite problem statement"
   ]
  },
  {
   "cell_type": "markdown",
   "id": "8a4cac3f",
   "metadata": {},
   "source": [
    "# Instructions for use\n",
    "See README\n",
    "Rewrite what is said in README"
   ]
  },
  {
   "cell_type": "markdown",
   "id": "4fa9cb91",
   "metadata": {},
   "source": [
    "Resources used for model development are cited inline"
   ]
  },
  {
   "cell_type": "markdown",
   "id": "ca34d4b7",
   "metadata": {},
   "source": [
    "## Import required libraries"
   ]
  },
  {
   "cell_type": "code",
   "execution_count": 1,
   "id": "d6418802",
   "metadata": {},
   "outputs": [],
   "source": [
    "import numpy as np\n",
    "import matplotlib.pyplot as plt\n",
    "from scipy.interpolate import interp1d\n",
    "from scipy import integrate\n",
    "from scipy.optimize import fmin\n",
    "import pandas as pd\n",
    "from math import hypot\n",
    "from scipy.optimize import curve_fit\n",
    "import matplotlib.image as mpimg\n",
    "from sympy import symbols, Eq, solve "
   ]
  },
  {
   "cell_type": "code",
   "execution_count": null,
   "id": "3fe5b09d",
   "metadata": {},
   "outputs": [],
   "source": [
    "# optimization \"Select Parameters with SSE Optimization\": https://www.youtube.com/watch?v=qYdrLyY2bNk"
   ]
  },
  {
   "cell_type": "code",
   "execution_count": null,
   "id": "7854f827",
   "metadata": {},
   "outputs": [],
   "source": [
    "# using depth tolerance might be better because we can understand depth error (rather than mech eng head)"
   ]
  },
  {
   "cell_type": "markdown",
   "id": "84d56e44",
   "metadata": {},
   "source": [
    "# Enter channel longitudinal characteristics"
   ]
  },
  {
   "cell_type": "code",
   "execution_count": 2,
   "id": "654095e5",
   "metadata": {},
   "outputs": [],
   "source": [
    "# enter length of channel and spatial step\n",
    "dx = 1\n",
    "l = 500\n",
    "elev = 10 # datum at downstream\n",
    "g = 9.81"
   ]
  },
  {
   "cell_type": "code",
   "execution_count": 3,
   "id": "e5634906",
   "metadata": {},
   "outputs": [],
   "source": [
    "# define function to find closest downstream value of x to structure\n",
    "def find_nearest(x,value):\n",
    "    idx = (np.abs(x-value)).argmin()\n",
    "    if x[idx]<value:\n",
    "        return x[idx]\n",
    "    else:\n",
    "        return x[idx-1]"
   ]
  },
  {
   "cell_type": "markdown",
   "id": "bc779956",
   "metadata": {},
   "source": [
    "# Enter upstream boundary condition parameters"
   ]
  },
  {
   "cell_type": "code",
   "execution_count": null,
   "id": "61023a44",
   "metadata": {},
   "outputs": [],
   "source": [
    "# enter upstream water level delivering flow to the canal through radial sluice gate\n",
    "h1 = 5\n",
    "\n",
    "# find parameters just d/s of gate\n",
    "\n"
   ]
  },
  {
   "cell_type": "markdown",
   "id": "3b4101ab",
   "metadata": {},
   "source": [
    "# Enter downstream boundary condition paramters"
   ]
  },
  {
   "cell_type": "code",
   "execution_count": null,
   "id": "412a1342",
   "metadata": {},
   "outputs": [],
   "source": [
    "# enter downstream sharp crested weir properties\n",
    "# equations used:\n"
   ]
  },
  {
   "cell_type": "markdown",
   "id": "74e8061a",
   "metadata": {},
   "source": [
    "# Enter bed slope information"
   ]
  },
  {
   "cell_type": "code",
   "execution_count": 4,
   "id": "623c1326",
   "metadata": {},
   "outputs": [],
   "source": [
    "# enter bed slope\n",
    "s0 = 0.001\n",
    "s1 = 0.0002\n",
    "s2 = 0.0003\n",
    "\n",
    "# enter locations of channel geometry change\n",
    "# station 0 is at d/s end\n",
    "\n",
    "xs0 = 100\n",
    "xs1 = 350\n",
    "xs2 = 450\n",
    "\n",
    "x = np.arange(0,l,dx)\n",
    "\n",
    "bedelev = []\n",
    "\n",
    "for i in x:\n",
    "    if i == 0:\n",
    "        bedelev.append(elev)\n",
    "    elif i <= xs0:\n",
    "        bedelev.append(bedelev[i-1]+(dx*s0))\n",
    "    elif i <= xs1:\n",
    "        bedelev.append(bedelev[i-1]+(dx*s1))\n",
    "    else:\n",
    "        bedelev.append(bedelev[i-1]+(dx*s2))\n"
   ]
  },
  {
   "cell_type": "markdown",
   "id": "935d2b0f",
   "metadata": {},
   "source": [
    "# Enter cross sectional geometry information"
   ]
  },
  {
   "cell_type": "code",
   "execution_count": null,
   "id": "312ec059",
   "metadata": {},
   "outputs": [],
   "source": [
    "# enter cross sectional geometry\n",
    "# start with prismatic channel\n",
    "##w = 20\n",
    "##h = 7\n",
    "\n",
    "# enter locations of channel geometry change\n",
    "##xgeo1 = \n",
    "\n",
    "# for regular cross section:\n",
    "# gamma as a function of x, define piecewise function through loop\n",
    "\n",
    "# for irregular cross section:\n",
    "# enter power function parameters, or use calculator"
   ]
  },
  {
   "cell_type": "markdown",
   "id": "10e13fea",
   "metadata": {},
   "source": [
    "# Enter hydraulic resistance"
   ]
  },
  {
   "cell_type": "code",
   "execution_count": 90,
   "id": "e19deaf9",
   "metadata": {},
   "outputs": [],
   "source": [
    "# enter hydraulic resistance\n",
    "# example with change in resistance\n",
    "n0 = 0.03\n",
    "n1 = 0.01\n",
    "\n",
    "# enter locations of n change\n",
    "xn1 = 50\n",
    "xn2 = 350\n",
    "\n",
    "n = []\n",
    "\n",
    "for i in station:\n",
    "    if i <=xn1:\n",
    "        n.append(n0)\n",
    "    elif i <=xn2:\n",
    "        n.append(n1)\n",
    "    else:\n",
    "        n.append(n0)\n"
   ]
  },
  {
   "cell_type": "markdown",
   "id": "668eec4c",
   "metadata": {},
   "source": [
    "# Enter lateral inflow/outflow"
   ]
  },
  {
   "cell_type": "code",
   "execution_count": 92,
   "id": "8e952d44",
   "metadata": {},
   "outputs": [],
   "source": [
    "# enter lateral inflow/outflow\n",
    "# start with constant q\n",
    "q0 = -0.5\n",
    "q1 = 0\n",
    "q2 = -0.001\n",
    "\n",
    "# enter locations of q change\n",
    "xq1 = 100\n",
    "xq2 = 450\n",
    "\n",
    "q = []\n",
    "\n",
    "for i in station:\n",
    "    if i <=xq1:\n",
    "        q.append(q0)\n",
    "    elif i <=xq2:\n",
    "        q.append(q1)\n",
    "    else:\n",
    "        q.append(q2)"
   ]
  },
  {
   "cell_type": "markdown",
   "id": "d98cf504",
   "metadata": {},
   "source": [
    "# enter kinetic energy correction factor"
   ]
  },
  {
   "cell_type": "code",
   "execution_count": 95,
   "id": "53b988ca",
   "metadata": {},
   "outputs": [],
   "source": [
    "# enter kinetic energy correction factor\n",
    "# start with alpha = 1\n",
    "alpha0 = 1\n",
    "alpha1 = 0.9\n",
    "\n",
    "# enter location of alpha change\n",
    "xalpha1 = 350\n",
    "\n",
    "alpha = []\n",
    "\n",
    "for i in station:\n",
    "    if i <=xalpha1:\n",
    "        alpha.append(alpha0)\n",
    "    else:\n",
    "        alpha.append(alpha1)\n",
    "        "
   ]
  },
  {
   "cell_type": "markdown",
   "id": "d2161807",
   "metadata": {},
   "source": [
    "# enter contraction loss coefficients"
   ]
  },
  {
   "cell_type": "code",
   "execution_count": 157,
   "id": "23649449",
   "metadata": {},
   "outputs": [],
   "source": [
    "# enter contraction loss coefficients\n",
    "cc1 = 0.5\n",
    "cc2 = 0.4\n",
    "\n",
    "# enter expansion loss coefficients\n",
    "ce1 = 0.4\n",
    "ce2 = 0.8\n",
    "\n",
    "# enter location of contraction\n",
    "xc1 = np.arange(50,70,dx)\n",
    "xc2 = np.arange(300,350,dx)\n",
    "\n",
    "# enter location of expansions\n",
    "xe1 = np.arange(70,80,dx)\n",
    "xe2 = np.arange(350,400,dx)\n",
    "\n",
    "u = np.random.uniform(low=2,high=10,size=(l)) # test values\n",
    "ustar = np.random.uniform(low=2,high=10,size=(l)) # test values\n",
    "\n",
    "# define function for change in energy head caused by contraction/expansion\n",
    "def sudden(c,ustar,u,g):\n",
    "    return c*np.absolute(((ustar**2)/(2*g))-((u**2)/(2*g)))\n",
    "\n",
    "# solve for spatially varying headloss caused by contractions and expansions\n",
    "\n",
    "Hec = []\n",
    "\n",
    "for i in station:\n",
    "    if (i !=xc1).all() and (i !=xc2).all() and (i !=xe1).all() and (i !=xe2).all():\n",
    "        Hec.append(0)\n",
    "    elif (i==xc1).any():\n",
    "        Hec.append(sudden(cc1,ustar[i],u[i],g))\n",
    "    elif (i==xc2).any():\n",
    "        Hec.append(sudden(cc2,ustar[i],u[i],g))\n",
    "    elif (i==xe1).any():\n",
    "        Hec.append(sudden(ce1,ustar[i],u[i],g))\n",
    "    else:\n",
    "        Hec.append(sudden(ce2,ustar[i],u[i],g))\n"
   ]
  },
  {
   "cell_type": "code",
   "execution_count": 151,
   "id": "47324b01",
   "metadata": {},
   "outputs": [],
   "source": [
    "# enter bend loss coefficients\n",
    "cb1 = 0.055\n",
    "cb2 = 0.058\n",
    "\n",
    "# enter location of channel bends\n",
    "xb1 = np.arange(50,70,dx)\n",
    "xb2 = np.arange(400,420,dx)\n",
    "\n",
    "u = np.random.uniform(low=2,high=10,size=(l)) # test values\n",
    "\n",
    "# define function for change in energy head caused by bend\n",
    "def bend(c,u,g):\n",
    "    return c*(u**2)/(2*g)\n",
    "\n",
    "# solve for spatially varying headloss caused by bend\n",
    "Hb = []\n",
    "\n",
    "for i in station:\n",
    "    if (i !=xb1).all() and (i !=xb2).all():\n",
    "        Hb.append(0)\n",
    "    elif (i==xb1).any():\n",
    "        Hb.append(bend(cb1,u[i],g))\n",
    "    else:\n",
    "        Hb.append(bend(cb2,u[i],g))\n",
    "        "
   ]
  },
  {
   "cell_type": "markdown",
   "id": "fee673e3",
   "metadata": {},
   "source": [
    "# Calculate flow conditions for mid reach broad crested weir"
   ]
  },
  {
   "cell_type": "code",
   "execution_count": 3,
   "id": "864d72da",
   "metadata": {
    "scrolled": true
   },
   "outputs": [
    {
     "data": {
      "image/png": "[encoded data removed]",
      "text/plain": [
       "<Figure size 432x288 with 1 Axes>"
      ]
     },
     "metadata": {
      "needs_background": "light"
     },
     "output_type": "display_data"
    }
   ],
   "source": [
    "img = mpimg.imread('broadweir.jpg')\n",
    "imgplot = plt.imshow(img)\n",
    "plt.show()"
   ]
  },
  {
   "cell_type": "code",
   "execution_count": 15,
   "id": "f3c79412",
   "metadata": {},
   "outputs": [],
   "source": [
    "# in-stream regulating structure located mid length (broad crested weir or vertical sluice gate)\n",
    "\n",
    "# if running model from downstream, h2 is known, h1 is unknown\n",
    "# possible Q calculated from Hw\n",
    "# Q is known, Hw unknown. Calc Hw from known Q, guess h1 based on h2 and Hw\n",
    "\n",
    "# define location of structure\n",
    "xin = l/2\n",
    "\n",
    "# if cross section falls on structure, delete it\n",
    "#df.drop([xin])\n",
    "\n",
    "# find the closest downstream value of x\n",
    "closest_idx = find_nearest(x,xin) \n",
    "\n",
    "# define required parameters\n",
    "#h2 = df.iat[closest_idx,'depth'] # d/s calculated depth, assuming x values are index in pandas df\n",
    "h2 = 2.8\n",
    "#Q = df.iat[closets_idx,'flow'] # flow at structure\n",
    "Q = 23.6\n",
    "L = 10 # cross sectional length\n",
    "#A = df.iat[closets_idx,'area'] # area at structure\n",
    "A = 20\n",
    "inL = 3 # in-stream length\n",
    "g = 32.2 # rewrite with consistent units for final model\n",
    "pw = 2 # height of weir\n",
    "y2 = h2-pw"
   ]
  },
  {
   "cell_type": "code",
   "execution_count": 17,
   "id": "ee6c3742",
   "metadata": {
    "scrolled": true
   },
   "outputs": [
    {
     "name": "stdout",
     "output_type": "stream",
     "text": [
      "broad\n",
      "submerged\n"
     ]
    },
    {
     "name": "stderr",
     "output_type": "stream",
     "text": [
      "C:\\Users\\GSCOB\\AppData\\Local\\Temp\\ipykernel_17504\\2531349058.py:4: SymPyDeprecationWarning: \n",
      "\n",
      "Eq(expr) with a single argument with the right-hand side\n",
      "defaulting to 0 is deprecated. Use Eq(expr, 0) instead.\n",
      "\n",
      "See https://docs.sympy.org/latest/explanation/active-deprecations.html#deprecated-eq-expr\n",
      "for details.\n",
      "\n",
      "This has been deprecated since SymPy version 1.5. It\n",
      "will be removed in a future version of SymPy.\n",
      "\n",
      "  eq1 = Eq(0.93+0.1*(Hw/inL)-Cd)\n"
     ]
    },
    {
     "ename": "IndexError",
     "evalue": "list index out of range",
     "output_type": "error",
     "traceback": [
      "\u001b[1;31m---------------------------------------------------------------------------\u001b[0m",
      "\u001b[1;31mIndexError\u001b[0m                                Traceback (most recent call last)",
      "Input \u001b[1;32mIn [17]\u001b[0m, in \u001b[0;36m<cell line: 24>\u001b[1;34m()\u001b[0m\n\u001b[0;32m     27\u001b[0m eq2a \u001b[38;5;241m=\u001b[39m Eq((((Q2\u001b[38;5;241m/\u001b[39m((\u001b[38;5;241m2\u001b[39m\u001b[38;5;241m/\u001b[39m\u001b[38;5;241m3\u001b[39m)\u001b[38;5;241m*\u001b[39m((\u001b[38;5;241m2\u001b[39m\u001b[38;5;241m*\u001b[39mg\u001b[38;5;241m/\u001b[39m\u001b[38;5;241m3\u001b[39m)\u001b[38;5;241m*\u001b[39m\u001b[38;5;241m*\u001b[39m(\u001b[38;5;241m1\u001b[39m\u001b[38;5;241m/\u001b[39m\u001b[38;5;241m2\u001b[39m))\u001b[38;5;241m*\u001b[39mCd\u001b[38;5;241m*\u001b[39mL))\u001b[38;5;241m*\u001b[39m\u001b[38;5;241m*\u001b[39m(\u001b[38;5;241m2\u001b[39m\u001b[38;5;241m/\u001b[39m\u001b[38;5;241m3\u001b[39m))\u001b[38;5;241m-\u001b[39mHw))\n\u001b[0;32m     28\u001b[0m sol2 \u001b[38;5;241m=\u001b[39m solve((eq1,eq2a), (Cd, Hw),\u001b[38;5;28mdict\u001b[39m\u001b[38;5;241m=\u001b[39m\u001b[38;5;28;01mTrue\u001b[39;00m)\n\u001b[1;32m---> 29\u001b[0m Cd \u001b[38;5;241m=\u001b[39m \u001b[43msol2\u001b[49m\u001b[43m[\u001b[49m\u001b[38;5;241;43m0\u001b[39;49m\u001b[43m]\u001b[49m[Cd]\n\u001b[0;32m     30\u001b[0m Hw \u001b[38;5;241m=\u001b[39m sol2[\u001b[38;5;241m0\u001b[39m][Hw]\n\u001b[0;32m     31\u001b[0m H \u001b[38;5;241m=\u001b[39m Hw\u001b[38;5;241m-\u001b[39m(((Q\u001b[38;5;241m/\u001b[39mA)\u001b[38;5;241m*\u001b[39m\u001b[38;5;241m*\u001b[39m\u001b[38;5;241m2\u001b[39m)\u001b[38;5;241m/\u001b[39m(\u001b[38;5;241m2\u001b[39m\u001b[38;5;241m*\u001b[39mg))\n",
      "\u001b[1;31mIndexError\u001b[0m: list index out of range"
     ]
    }
   ],
   "source": [
    "# https://clouds.eos.ubc.ca/~phil/docs/problem_solving/10-Symbolic-Math/10.07-Solving-Two-Equations-for-Two-Unknowns.html\n",
    "Cd, Hw = symbols('Cd Hw')\n",
    "\n",
    "eq1 = Eq(0.93+0.1*(Hw/inL)-Cd)\n",
    "eq2 = Eq(((Q/((2/3)*((2*g/3)**(1/2))*Cd*L))**(2/3))-Hw)\n",
    "\n",
    "sol = solve((eq1,eq2), (Cd, Hw),dict=True)\n",
    "\n",
    "Cd = sol[0][Cd]\n",
    "Hw = sol[0][Hw]\n",
    "\n",
    "# check if broad crested weir equations are appropriate\n",
    "print('broad' if Hw/inL >=0.07 and Hw/inL<=0.7 else 'cannot compute')\n",
    "\n",
    "H = Hw-(((Q/A)**2)/(2*g))\n",
    "h1 = H + pw\n",
    "y1 = h1-pw\n",
    "\n",
    "S= y2/y1 #submergence >= 0.65, flow submerged\n",
    "print('submerged' if S>=0.65 else 'free')\n",
    "\n",
    "# solve for submerged flow\n",
    "# NOT SURE IF THIS IS WORKING CORRECTLY, NEED TO TEST\n",
    "if S>=0.65:\n",
    "    fs = (9.815-(7.55*S**2)-2.26)**(1/3)\n",
    "    Q2 = Q*fs\n",
    "    eq2a = Eq((((Q2/((2/3)*((2*g/3)**(1/2))*Cd*L))**(2/3))-Hw))\n",
    "    sol2 = solve((eq1,eq2a), (Cd, Hw),dict=True)\n",
    "    Cd = sol2[0][Cd]\n",
    "    Hw = sol2[0][Hw]\n",
    "    H = Hw-(((Q/A)**2)/(2*g))\n",
    "    h1 = H + pw\n",
    "    y1 = h1-pw\n",
    "\n",
    "# This h1 will be used in next upstream cross section as h2\n",
    "print(h1)\n",
    "print(Hw)\n",
    "print(Cd)"
   ]
  },
  {
   "cell_type": "markdown",
   "id": "5be41e31",
   "metadata": {},
   "source": [
    "# Calculate flow conditions for offtake structures"
   ]
  },
  {
   "cell_type": "code",
   "execution_count": null,
   "id": "adef6877",
   "metadata": {},
   "outputs": [],
   "source": [
    "# radial sluice off-take structures\n",
    "\n",
    "# define locations of gates upstream of regulating structure\n",
    "xgate1 = \n",
    "xgate2 = \n",
    "xgate3 = \n",
    "\n",
    "# define locations of gates downstream of regulating structure\n",
    "xgate4 = \n",
    "xgate5 = "
   ]
  },
  {
   "cell_type": "code",
   "execution_count": null,
   "id": "7ca8565a",
   "metadata": {},
   "outputs": [],
   "source": [
    "# calculate flow rate\n",
    "# equations used:\n",
    "\n",
    "# create plot that shows flow rate as a function of position, if result merges on accurate solution\n",
    "\n",
    "\n"
   ]
  },
  {
   "cell_type": "code",
   "execution_count": null,
   "id": "c8aad231",
   "metadata": {},
   "outputs": [],
   "source": [
    "# calculate cross sectional averaged velocity\n",
    "# equations used:\n",
    "\n",
    "\n",
    "# plot over x"
   ]
  },
  {
   "cell_type": "code",
   "execution_count": null,
   "id": "17fec46b",
   "metadata": {},
   "outputs": [],
   "source": [
    "# calculate flow depth\n",
    "\n",
    "# equations used:\n",
    "\n",
    "\n",
    "# plot over x"
   ]
  },
  {
   "cell_type": "code",
   "execution_count": null,
   "id": "26668b79",
   "metadata": {},
   "outputs": [],
   "source": [
    "# calculate water surface elevation\n",
    "# equations used:\n",
    "\n",
    "# plot over x\n"
   ]
  },
  {
   "cell_type": "code",
   "execution_count": null,
   "id": "b5fbc0ce",
   "metadata": {},
   "outputs": [],
   "source": [
    "# calculate Froude number\n",
    "# equations used:\n",
    "\n",
    "\n",
    "# plot over x\n"
   ]
  },
  {
   "cell_type": "code",
   "execution_count": null,
   "id": "d12844ea",
   "metadata": {},
   "outputs": [],
   "source": [
    "# calculate total mechanical energy head\n",
    "# equations used:\n",
    "\n",
    "\n",
    "# plot over x\n"
   ]
  },
  {
   "cell_type": "code",
   "execution_count": null,
   "id": "ec8119cb",
   "metadata": {},
   "outputs": [],
   "source": [
    "# calculate off-take flow rates\n",
    "# equations used:\n",
    "\n",
    "\n",
    "# plot over x\n"
   ]
  }
 ],
 "metadata": {
  "kernelspec": {
   "display_name": "Python 3 (ipykernel)",
   "language": "python",
   "name": "python3"
  },
  "language_info": {
   "codemirror_mode": {
    "name": "ipython",
    "version": 3
   },
   "file_extension": ".py",
   "mimetype": "text/x-python",
   "name": "python",
   "nbconvert_exporter": "python",
   "pygments_lexer": "ipython3",
   "version": "3.8.13"
  }
 },
 "nbformat": 4,
 "nbformat_minor": 5
}
